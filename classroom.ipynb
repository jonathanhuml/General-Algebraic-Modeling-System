{
 "cells": [
  {
   "cell_type": "code",
   "execution_count": 1,
   "metadata": {},
   "outputs": [],
   "source": [
    "%load_ext gams_magic"
   ]
  },
  {
   "cell_type": "code",
   "execution_count": 2,
   "metadata": {},
   "outputs": [
    {
     "data": {
      "text/html": [
       "<div>\n",
       "<style scoped>\n",
       "    .dataframe tbody tr th:only-of-type {\n",
       "        vertical-align: middle;\n",
       "    }\n",
       "\n",
       "    .dataframe tbody tr th {\n",
       "        vertical-align: top;\n",
       "    }\n",
       "\n",
       "    .dataframe thead th {\n",
       "        text-align: right;\n",
       "    }\n",
       "</style>\n",
       "<table border=\"1\" class=\"dataframe\">\n",
       "  <thead>\n",
       "    <tr style=\"text-align: right;\">\n",
       "      <th></th>\n",
       "      <th>Solver Status</th>\n",
       "      <th>Model Status</th>\n",
       "      <th>Objective</th>\n",
       "      <th>#equ</th>\n",
       "      <th>#var</th>\n",
       "      <th>Model Type</th>\n",
       "      <th>Solver</th>\n",
       "      <th>Solver Time</th>\n",
       "    </tr>\n",
       "  </thead>\n",
       "  <tbody>\n",
       "    <tr>\n",
       "      <th>0</th>\n",
       "      <td>Normal (1)</td>\n",
       "      <td>Optimal Global (1)</td>\n",
       "      <td>26.0</td>\n",
       "      <td>7</td>\n",
       "      <td>10</td>\n",
       "      <td>LP</td>\n",
       "      <td>OSICPLEX</td>\n",
       "      <td>0</td>\n",
       "    </tr>\n",
       "  </tbody>\n",
       "</table>\n",
       "</div>"
      ],
      "text/plain": [
       "  Solver Status        Model Status  Objective #equ #var Model Type    Solver  \\\n",
       "0    Normal (1)  Optimal Global (1)       26.0    7   10         LP  OSICPLEX   \n",
       "\n",
       "  Solver Time  \n",
       "0           0  "
      ]
     },
     "execution_count": 2,
     "metadata": {},
     "output_type": "execute_result"
    }
   ],
   "source": [
    "##NOTE: THIS IS PART B; THE BINARY INTEGER FORMULATION\n",
    "\n",
    "%%gams \n",
    "Variables value; \n",
    "\n",
    "positive variables ax, ay, az, bx, by, bz, cx, cy, cz;\n",
    "#declare equations to represent obj and contraints\n",
    "\n",
    "Equation obj, col1, col2, col3, row1, row2, row3;\n",
    "\n",
    "#define equation\n",
    "obj.. value =e= 10*ax + 2*ay + 4*bx + 6*by + 9*bz + 5*cx + 10*cz;\n",
    "\n",
    "col1..  ax + bx + cx =e= 1;\n",
    "col2..  ay + by + cy =e= 1;\n",
    "col3..  az + bz + cz =e= 1;\n",
    "\n",
    "row1..  ax  + ay + az =e= 1;\n",
    "row2..  bx + by + bz =e= 1;\n",
    "row3..  cx + cy + cz =e= 1;\n",
    "\n",
    "\n",
    "\n",
    "model investment /obj, col1, col2, col3, row1, row2, row3/;\n",
    "solve investment using lp maximizing value;"
   ]
  },
  {
   "cell_type": "code",
   "execution_count": 3,
   "metadata": {},
   "outputs": [
    {
     "name": "stdout",
     "output_type": "stream",
     "text": [
      "E x e c u t i o n\n",
      "\n",
      "\n",
      "----     28 VARIABLE ax.L                  =        1.000  \n",
      "            VARIABLE ay.L                  =        0.000  \n",
      "            VARIABLE az.L                  =        0.000  \n",
      "            VARIABLE bx.L                  =        0.000  \n",
      "            VARIABLE by.L                  =        1.000  \n",
      "            VARIABLE bz.L                  =        0.000  \n",
      "            VARIABLE cx.L                  =        0.000  \n",
      "            VARIABLE cy.L                  =        0.000  \n",
      "            VARIABLE cz.L                  =        1.000  \n",
      "\n",
      "\n"
     ]
    }
   ],
   "source": [
    "%gams display ax.l, ay.l, az.l, bx.l, by.l, bz.l, cx.l, cy.l, cz.l;\n",
    "%gams_lst -e"
   ]
  },
  {
   "cell_type": "code",
   "execution_count": 14,
   "metadata": {},
   "outputs": [
    {
     "data": {
      "text/html": [
       "<div>\n",
       "<style scoped>\n",
       "    .dataframe tbody tr th:only-of-type {\n",
       "        vertical-align: middle;\n",
       "    }\n",
       "\n",
       "    .dataframe tbody tr th {\n",
       "        vertical-align: top;\n",
       "    }\n",
       "\n",
       "    .dataframe thead th {\n",
       "        text-align: right;\n",
       "    }\n",
       "</style>\n",
       "<table border=\"1\" class=\"dataframe\">\n",
       "  <thead>\n",
       "    <tr style=\"text-align: right;\">\n",
       "      <th></th>\n",
       "      <th>Solver Status</th>\n",
       "      <th>Model Status</th>\n",
       "      <th>Objective</th>\n",
       "      <th>#equ</th>\n",
       "      <th>#var</th>\n",
       "      <th>Model Type</th>\n",
       "      <th>Solver</th>\n",
       "      <th>Solver Time</th>\n",
       "    </tr>\n",
       "  </thead>\n",
       "  <tbody>\n",
       "    <tr>\n",
       "      <th>0</th>\n",
       "      <td>Normal (1)</td>\n",
       "      <td>Optimal Global (1)</td>\n",
       "      <td>26.0</td>\n",
       "      <td>14</td>\n",
       "      <td>20</td>\n",
       "      <td>LP</td>\n",
       "      <td>OSICPLEX</td>\n",
       "      <td>0</td>\n",
       "    </tr>\n",
       "  </tbody>\n",
       "</table>\n",
       "</div>"
      ],
      "text/plain": [
       "  Solver Status        Model Status  Objective #equ #var Model Type    Solver  \\\n",
       "0    Normal (1)  Optimal Global (1)       26.0   14   20         LP  OSICPLEX   \n",
       "\n",
       "  Solver Time  \n",
       "0           0  "
      ]
     },
     "execution_count": 14,
     "metadata": {},
     "output_type": "execute_result"
    }
   ],
   "source": [
    "%%gams\n",
    "Sets\n",
    "     i   classroom   / rooma, roomb, roomc /\n",
    "     j   course          / coursex, coursey, coursez / ;\n",
    "\n",
    "Parameters\n",
    "\n",
    "     a(i)  capacity of room i in cases\n",
    "       /    rooma     1\n",
    "            roomb     1\n",
    "            roomc     1/\n",
    "\n",
    "     b(j)  demand of course j in cases\n",
    "       /    coursex    1\n",
    "            coursey    1\n",
    "            coursez    1  / ;\n",
    "\n",
    "Table d(i,j)  distance in thousands of miles\n",
    "                 coursex      coursey    coursez\n",
    "    rooma        10           2          -8\n",
    "    roomb        4            6          9  \n",
    "    roomc        5           -2          10;\n",
    "\n",
    "Scalar f  freight in dollars per case per thousand miles  /1/ ;\n",
    "\n",
    "Parameter c(i,j)  transport cost in thousands of dollars per case ;\n",
    "\n",
    "          c(i,j) = f * d(i,j) ;\n",
    "\n",
    "Variables\n",
    "     x(i,j)  shipment quantities in cases\n",
    "     z       total transportation costs in thousands of dollars ;\n",
    "\n",
    "Positive Variable x ;\n",
    "\n",
    "Equations\n",
    "     cost        define objective function\n",
    "     supply(i)   observe supply limit at plant i\n",
    "     demand(j)   satisfy demand at market j ;\n",
    "\n",
    "cost ..        z  =e=  sum((i,j), c(i,j)*x(i,j)) ;\n",
    "\n",
    "supply(i) ..   sum(j, x(i,j))  =l=  a(i) ;\n",
    "\n",
    "demand(j) ..   sum(i, x(i,j))  =g=  b(j) ;\n",
    "\n",
    "Model transport /all/ ;\n",
    "\n",
    "Solve transport using lp maximizing z ;\n",
    "\n",
    "Display x.l, x.m ;"
   ]
  },
  {
   "cell_type": "code",
   "execution_count": 13,
   "metadata": {},
   "outputs": [
    {
     "name": "stdout",
     "output_type": "stream",
     "text": [
      "E x e c u t i o n\n",
      "\n",
      "\n",
      "----    184 VARIABLE x.L  \n",
      "\n",
      "                      ( ALL       0.000 )\n",
      "\n",
      "\n",
      "\n"
     ]
    }
   ],
   "source": [
    "%gams display x.l;\n",
    "%gams_lst -e"
   ]
  },
  {
   "cell_type": "markdown",
   "metadata": {},
   "source": [
    "The two formulations are actually the same. We use the exact same mathematical process, just code it differently. Only one classroom can be chosen per test, so the flow is only 1 into each classroom times whatever the value is.  "
   ]
  }
 ],
 "metadata": {
  "kernelspec": {
   "display_name": "Python 3",
   "language": "python",
   "name": "python3"
  },
  "language_info": {
   "codemirror_mode": {
    "name": "ipython",
    "version": 3
   },
   "file_extension": ".py",
   "mimetype": "text/x-python",
   "name": "python",
   "nbconvert_exporter": "python",
   "pygments_lexer": "ipython3",
   "version": "3.6.9"
  }
 },
 "nbformat": 4,
 "nbformat_minor": 2
}
