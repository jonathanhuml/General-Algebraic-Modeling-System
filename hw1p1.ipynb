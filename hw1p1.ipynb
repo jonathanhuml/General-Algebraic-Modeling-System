{
 "cells": [
  {
   "cell_type": "raw",
   "metadata": {},
   "source": [
    "A person can invest up to 1000 dollars. She can invest her money in stock or loan. Each dollar invested in stocks yields 10 cents of profit, 15 cents in profit for loan. 30 percent must be in stocks, and 400 dollars must be in loans. Formulate an LP to maximize total profit"
   ]
  },
  {
   "cell_type": "code",
   "execution_count": 1,
   "metadata": {},
   "outputs": [],
   "source": [
    "%load_ext gams_magic"
   ]
  },
  {
   "cell_type": "code",
   "execution_count": 27,
   "metadata": {},
   "outputs": [
    {
     "data": {
      "text/html": [
       "<div>\n",
       "<style scoped>\n",
       "    .dataframe tbody tr th:only-of-type {\n",
       "        vertical-align: middle;\n",
       "    }\n",
       "\n",
       "    .dataframe tbody tr th {\n",
       "        vertical-align: top;\n",
       "    }\n",
       "\n",
       "    .dataframe thead th {\n",
       "        text-align: right;\n",
       "    }\n",
       "</style>\n",
       "<table border=\"1\" class=\"dataframe\">\n",
       "  <thead>\n",
       "    <tr style=\"text-align: right;\">\n",
       "      <th></th>\n",
       "      <th>Solver Status</th>\n",
       "      <th>Model Status</th>\n",
       "      <th>Objective</th>\n",
       "      <th>#equ</th>\n",
       "      <th>#var</th>\n",
       "      <th>Model Type</th>\n",
       "      <th>Solver</th>\n",
       "      <th>Solver Time</th>\n",
       "    </tr>\n",
       "  </thead>\n",
       "  <tbody>\n",
       "    <tr>\n",
       "      <th>0</th>\n",
       "      <td>Normal (1)</td>\n",
       "      <td>Optimal Global (1)</td>\n",
       "      <td>135.0</td>\n",
       "      <td>4</td>\n",
       "      <td>3</td>\n",
       "      <td>LP</td>\n",
       "      <td>OSICPLEX</td>\n",
       "      <td>0</td>\n",
       "    </tr>\n",
       "  </tbody>\n",
       "</table>\n",
       "</div>"
      ],
      "text/plain": [
       "  Solver Status        Model Status  Objective #equ #var Model Type    Solver  \\\n",
       "0    Normal (1)  Optimal Global (1)      135.0    4    3         LP  OSICPLEX   \n",
       "\n",
       "  Solver Time  \n",
       "0           0  "
      ]
     },
     "execution_count": 27,
     "metadata": {},
     "output_type": "execute_result"
    }
   ],
   "source": [
    "%%gams \n",
    "\n",
    "#define variables: amount in stocks, amount in loans, profit\n",
    "Variables stocks, loans, profit; \n",
    "\n",
    "#declare equations to represent obj and contraints\n",
    "\n",
    "Equation obj 'objective function', upper '1000 available',stocklb 'at least 30 percent in stocks',loanlb '400 dollars';\n",
    "\n",
    "#define equation\n",
    "obj.. profit =e= 0.1*stocks + 0.15*loans;\n",
    "loanlb.. loans =g= 400;\n",
    "stocklb.. stocks =g= 0.3*(stocks+loans);\n",
    "upper..  stocks+loans =l= 1000;\n",
    "\n",
    "model investment /obj, loanlb, stocklb,upper/;\n",
    "solve investment using lp maximizing profit;\n",
    "\n"
   ]
  },
  {
   "cell_type": "code",
   "execution_count": 30,
   "metadata": {},
   "outputs": [
    {
     "name": "stdout",
     "output_type": "stream",
     "text": [
      "E x e c u t i o n\n",
      "\n",
      "\n",
      "----    171 VARIABLE stocks.L              =      300.000  \n",
      "            VARIABLE loans.L               =      700.000  \n",
      "            VARIABLE profit.L              =      135.000  \n",
      "\n",
      "\n"
     ]
    }
   ],
   "source": [
    "%gams display stocks.l, loans.l, profit.l;\n",
    "%gams_lst -e"
   ]
  }
 ],
 "metadata": {
  "kernelspec": {
   "display_name": "Python 3",
   "language": "python",
   "name": "python3"
  },
  "language_info": {
   "codemirror_mode": {
    "name": "ipython",
    "version": 3
   },
   "file_extension": ".py",
   "mimetype": "text/x-python",
   "name": "python",
   "nbconvert_exporter": "python",
   "pygments_lexer": "ipython3",
   "version": "3.6.9"
  }
 },
 "nbformat": 4,
 "nbformat_minor": 2
}
