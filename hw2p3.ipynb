{
 "cells": [
  {
   "cell_type": "code",
   "execution_count": 11,
   "metadata": {},
   "outputs": [
    {
     "name": "stdout",
     "output_type": "stream",
     "text": [
      "The gams_magic extension is already loaded. To reload it, use:\n",
      "  %reload_ext gams_magic\n"
     ]
    }
   ],
   "source": [
    "%load_ext gams_magic"
   ]
  },
  {
   "cell_type": "code",
   "execution_count": 12,
   "metadata": {},
   "outputs": [
    {
     "data": {
      "text/html": [
       "<div>\n",
       "<style scoped>\n",
       "    .dataframe tbody tr th:only-of-type {\n",
       "        vertical-align: middle;\n",
       "    }\n",
       "\n",
       "    .dataframe tbody tr th {\n",
       "        vertical-align: top;\n",
       "    }\n",
       "\n",
       "    .dataframe thead th {\n",
       "        text-align: right;\n",
       "    }\n",
       "</style>\n",
       "<table border=\"1\" class=\"dataframe\">\n",
       "  <thead>\n",
       "    <tr style=\"text-align: right;\">\n",
       "      <th></th>\n",
       "      <th>Solver Status</th>\n",
       "      <th>Model Status</th>\n",
       "      <th>Objective</th>\n",
       "      <th>#equ</th>\n",
       "      <th>#var</th>\n",
       "      <th>Model Type</th>\n",
       "      <th>Solver</th>\n",
       "      <th>Solver Time</th>\n",
       "    </tr>\n",
       "  </thead>\n",
       "  <tbody>\n",
       "    <tr>\n",
       "      <th>0</th>\n",
       "      <td>Normal (1)</td>\n",
       "      <td>Optimal Global (1)</td>\n",
       "      <td>10470.0</td>\n",
       "      <td>15</td>\n",
       "      <td>11</td>\n",
       "      <td>LP</td>\n",
       "      <td>OSICPLEX</td>\n",
       "      <td>0</td>\n",
       "    </tr>\n",
       "  </tbody>\n",
       "</table>\n",
       "</div>"
      ],
      "text/plain": [
       "  Solver Status        Model Status  Objective #equ #var Model Type    Solver  \\\n",
       "0    Normal (1)  Optimal Global (1)    10470.0   15   11         LP  OSICPLEX   \n",
       "\n",
       "  Solver Time  \n",
       "0           0  "
      ]
     },
     "execution_count": 12,
     "metadata": {},
     "output_type": "execute_result"
    }
   ],
   "source": [
    "%%gams \n",
    "\n",
    "#define variables: amount in stocks, amount in loans, profit\n",
    "variables cost, LAD, LAH, SDD, SDH, DCHI, DNYC, HCHI, HNYC, slack1, slack2;\n",
    "\n",
    "#positive variables LAD, LAH, SDD, SDH, DCHI, DNYC, HCHI, HNYC;\n",
    "\n",
    "#declare equations to represent obj and contraints\n",
    "\n",
    "Equation obj, lasupply, sdsupply, din, hin, chidemand, nydemand,los1, los2,sd1,sd2,d1,d2,h1,h2;\n",
    "\n",
    "#define equation\n",
    "obj.. cost =e= 1000*LAD + 1010*LAH+1120*SDD + 1000*SDH+550*DCHI+450*DNYC+530*HCHI+470*HNYC;\n",
    "lasupply.. LAD + LAH -slack1 =e= 4;\n",
    "sdsupply.. SDD + SDH -slack2 =e= 5;\n",
    "din.. LAD + SDD - DCHI - DNYC =e= 0;\n",
    "hin.. LAH + SDH - HCHI - HNYC =e= 0;\n",
    "los1.. LAH =g= 0;\n",
    "los2.. LAD =g= 0;\n",
    "sd1.. SDD =g=0;\n",
    "sd2.. SDH =g= 0;\n",
    "d1.. DCHI =g= 0;\n",
    "d2.. DNYC =g= 0;\n",
    "h1.. HCHI =g= 0;\n",
    "h2.. HNYC =g= 0;\n",
    "\n",
    "\n",
    "chidemand..  DCHI + HCHI =e= 4;\n",
    "nydemand..  DNYC+HNYC  =e= 3;\n",
    "\n",
    "\n",
    "\n",
    "model investment /obj, lasupply, sdsupply, din, hin,chidemand, nydemand, los1, los2,sd1,sd2,d1,d2,h1,h2/;\n",
    "solve investment using lp minimizing cost;"
   ]
  },
  {
   "cell_type": "code",
   "execution_count": 8,
   "metadata": {},
   "outputs": [
    {
     "name": "stdout",
     "output_type": "stream",
     "text": [
      "\f",
      "GAMS 28.2.0  r750fa45 Released Aug 19, 2019 LEX-LEG x86 64bit/Linux                                                                                                                                                                   04/19/20 01:42:02 Page 11\n",
      "G e n e r a l   A l g e b r a i c   M o d e l i n g   S y s t e m\n",
      "C o m p i l a t i o n\n",
      "\n",
      "\n",
      " 112  display LAD.l, LAH.l, SDD.l, SDH.l, DCHI.l, DNYC.l, HCHI.l, HNYC.l;\n",
      "\n",
      "\n",
      "COMPILATION TIME     =        0.000 SECONDS      2 MB  28.2.0 r750fa45 LEX-LEG\n",
      "\f",
      "GAMS 28.2.0  r750fa45 Released Aug 19, 2019 LEX-LEG x86 64bit/Linux                                                                                                                                                                   04/19/20 01:42:02 Page 12\n",
      "G e n e r a l   A l g e b r a i c   M o d e l i n g   S y s t e m\n",
      "E x e c u t i o n\n",
      "\n",
      "\n",
      "----    112 VARIABLE LAD.L                 =        4.000  \n",
      "            VARIABLE LAH.L                 =        0.000  \n",
      "            VARIABLE SDD.L                 =        0.000  \n",
      "            VARIABLE SDH.L                 =        5.000  \n",
      "            VARIABLE DCHI.L                =        0.000  \n",
      "            VARIABLE DNYC.L                =        4.000  \n",
      "            VARIABLE HCHI.L                =        0.000  \n",
      "            VARIABLE HNYC.L                =        5.000  \n",
      "\n",
      "\n",
      "EXECUTION TIME       =        0.000 SECONDS      3 MB  28.2.0 r750fa45 LEX-LEG\n",
      "\n",
      "\n",
      "USER: Course License University of North Carolina    G200106/0001AO-GEN\n",
      "      Statistics and Operations Research                 DC7042-C000002\n",
      "      License for teaching and research at degree granting institutions\n",
      "\n",
      "\n",
      "**** FILE SUMMARY\n",
      "\n",
      "Restart    /home/user037/_gams_py_gcp0.g00\n",
      "Input      /home/user037/gamsJupyter7.gms\n",
      "Output     /home/user037/gamsJupyter7.lst\n",
      "Save       /home/user037/_gams_py_gcp6.g0?\n",
      "\n",
      "**** WARNING - COMPILER OPTIONS ARE NON DEFAULT     EOLCOM # \n",
      "\n"
     ]
    }
   ],
   "source": [
    "%gams display LAD.l, LAH.l, SDD.l, SDH.l, DCHI.l, DNYC.l, HCHI.l, HNYC.l;\n",
    "%gams_lst "
   ]
  },
  {
   "cell_type": "code",
   "execution_count": null,
   "metadata": {},
   "outputs": [],
   "source": []
  }
 ],
 "metadata": {
  "kernelspec": {
   "display_name": "Python 3",
   "language": "python",
   "name": "python3"
  },
  "language_info": {
   "codemirror_mode": {
    "name": "ipython",
    "version": 3
   },
   "file_extension": ".py",
   "mimetype": "text/x-python",
   "name": "python",
   "nbconvert_exporter": "python",
   "pygments_lexer": "ipython3",
   "version": "3.6.9"
  }
 },
 "nbformat": 4,
 "nbformat_minor": 2
}
