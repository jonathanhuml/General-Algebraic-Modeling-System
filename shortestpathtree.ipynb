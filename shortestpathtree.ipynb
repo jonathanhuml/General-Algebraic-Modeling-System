{
 "cells": [
  {
   "cell_type": "code",
   "execution_count": 1,
   "metadata": {},
   "outputs": [],
   "source": [
    "%load_ext gams_magic"
   ]
  },
  {
   "cell_type": "code",
   "execution_count": 7,
   "metadata": {},
   "outputs": [],
   "source": [
    "%%gams\n",
    "\n",
    "Set i 'cities' / node1, node4,\n",
    "                 node2, node5,\n",
    "                 node3, node6/;\n",
    "\n",
    "Alias (i,j,k);\n",
    "\n",
    "Parameter a(i,j) 'arcs and cost'\n",
    "                 / node1 .node2   10, node3 .node4   1\n",
    "                   node1 .node3   3, node3 .node5   2\n",
    "                   node1 .node4    1, node3 .node6  4\n",
    "                   node2 .node3    1, node4   .node1    1\n",
    "                   node2  .node4   1, node4   .node5  2\n",
    "                   node2  .node5   2, node4     .node6    9\n",
    "                   node5  .node1    1, node5  .node2   6\n",
    "                    node5 .node6   6,  node6 .node1  2\n",
    "                    node6 .node2 3, node6  .node3   4\n",
    "                    \n",
    "                    /;\n",
    "\n",
    "Parameter f(i,j) 'shortest route between two cities';\n",
    "\n",
    "option a:0, f:0;\n",
    "\n",
    "Scalar\n",
    "   old 'old total distance'\n",
    "   new 'new total distance';\n",
    "\n",
    "a(i,j) = max(a(i,j),a(j,i));\n",
    "\n",
    "display a;\n",
    "\n",
    "f(i,j)  = inf;\n",
    "f(i,i)  = 0;\n",
    "f(i,j) $= a(i,j);\n",
    "\n",
    "loop(i,\n",
    "   new = na;\n",
    "   repeat(\n",
    "      f(i,j)$(not sameas(i,j)) = smin(k$a(k,j), f(i,k) + a(k,j));\n",
    "      old = new;\n",
    "      new = sum(j$(f(i,j) < inf), f(i,j));\n",
    "   until old = new);\n",
    ");\n",
    "\n",
    "display f;"
   ]
  },
  {
   "cell_type": "code",
   "execution_count": 8,
   "metadata": {},
   "outputs": [
    {
     "name": "stdout",
     "output_type": "stream",
     "text": [
      "E x e c u t i o n\n",
      "\n",
      "\n",
      "----    152 PARAMETER f  shortest route between two cities\n",
      "\n",
      "            node1       node4       node2       node5       node3       node6\n",
      "\n",
      "node1                       1           2           1           2           2\n",
      "node4           1                       1           2           1           3\n",
      "node2           2           1                       3           1           3\n",
      "node5           1           2           3                       2           3\n",
      "node3           2           1           1           2                       4\n",
      "node6           2           3           3           3           4\n",
      "\n",
      "\n",
      "----    152 PARAMETER a  arcs and cost\n",
      "\n",
      "            node1       node4       node2       node5       node3       node6\n",
      "\n",
      "node1                       1          10           1           3           2\n",
      "node4           1                       1           2           1           9\n",
      "node2          10           1                       6           1           3\n",
      "node5           1           2           6                       2           6\n",
      "node3           3           1           1           2                       4\n",
      "node6           2           9           3           6           4\n",
      "\n",
      "\n",
      "\n"
     ]
    }
   ],
   "source": [
    "%gams display f, a;\n",
    "%gams_lst -e"
   ]
  },
  {
   "cell_type": "code",
   "execution_count": null,
   "metadata": {},
   "outputs": [],
   "source": []
  }
 ],
 "metadata": {
  "kernelspec": {
   "display_name": "Python 3",
   "language": "python",
   "name": "python3"
  },
  "language_info": {
   "codemirror_mode": {
    "name": "ipython",
    "version": 3
   },
   "file_extension": ".py",
   "mimetype": "text/x-python",
   "name": "python",
   "nbconvert_exporter": "python",
   "pygments_lexer": "ipython3",
   "version": "3.6.9"
  }
 },
 "nbformat": 4,
 "nbformat_minor": 2
}
