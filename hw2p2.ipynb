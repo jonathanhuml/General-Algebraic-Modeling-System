{
 "cells": [
  {
   "cell_type": "code",
   "execution_count": 9,
   "metadata": {},
   "outputs": [
    {
     "name": "stdout",
     "output_type": "stream",
     "text": [
      "The gams_magic extension is already loaded. To reload it, use:\n",
      "  %reload_ext gams_magic\n"
     ]
    }
   ],
   "source": [
    "%load_ext gams_magic"
   ]
  },
  {
   "cell_type": "code",
   "execution_count": 13,
   "metadata": {},
   "outputs": [
    {
     "data": {
      "text/html": [
       "<div>\n",
       "<style scoped>\n",
       "    .dataframe tbody tr th:only-of-type {\n",
       "        vertical-align: middle;\n",
       "    }\n",
       "\n",
       "    .dataframe tbody tr th {\n",
       "        vertical-align: top;\n",
       "    }\n",
       "\n",
       "    .dataframe thead th {\n",
       "        text-align: right;\n",
       "    }\n",
       "</style>\n",
       "<table border=\"1\" class=\"dataframe\">\n",
       "  <thead>\n",
       "    <tr style=\"text-align: right;\">\n",
       "      <th></th>\n",
       "      <th>Solver Status</th>\n",
       "      <th>Model Status</th>\n",
       "      <th>Objective</th>\n",
       "      <th>#equ</th>\n",
       "      <th>#var</th>\n",
       "      <th>Model Type</th>\n",
       "      <th>Solver</th>\n",
       "      <th>Solver Time</th>\n",
       "    </tr>\n",
       "  </thead>\n",
       "  <tbody>\n",
       "    <tr>\n",
       "      <th>0</th>\n",
       "      <td>Normal (1)</td>\n",
       "      <td>Optimal Global (1)</td>\n",
       "      <td>4950.0</td>\n",
       "      <td>7</td>\n",
       "      <td>10</td>\n",
       "      <td>LP</td>\n",
       "      <td>OSICPLEX</td>\n",
       "      <td>0</td>\n",
       "    </tr>\n",
       "  </tbody>\n",
       "</table>\n",
       "</div>"
      ],
      "text/plain": [
       "  Solver Status        Model Status  Objective #equ #var Model Type    Solver  \\\n",
       "0    Normal (1)  Optimal Global (1)     4950.0    7   10         LP  OSICPLEX   \n",
       "\n",
       "  Solver Time  \n",
       "0           0  "
      ]
     },
     "execution_count": 13,
     "metadata": {},
     "output_type": "execute_result"
    }
   ],
   "source": [
    "%%gams\n",
    "\n",
    "#solution 2 to question 2\n",
    "\n",
    "# set declaration\n",
    "\n",
    "Sets\n",
    "       i   \"plants\"   / p1*p3 /\n",
    "       j   \"cities\"   / c1*c3 / ;\n",
    "\n",
    "# scalars and parameters\n",
    "Parameters\n",
    "    s(i)  \"supply capacity of plant i\"\n",
    "         /  p1 30\n",
    "            p2 30\n",
    "            p3 30 /\n",
    "\n",
    "    d(j)  \"demand at city j\"\n",
    "         /  c1    40\n",
    "            c2    50\n",
    "            c3    40  /\n",
    "            \n",
    "    penalty(j) / c1 70, c2 75, c3 65/\n",
    "    ;\n",
    "\n",
    "table c(i,j)  \"unit shipping cost\"\n",
    "              c1       c2      c3 \n",
    "    p1        15       35      25     \n",
    "    p2        10       50      40\n",
    "    p3        20       40      30;\n",
    "\n",
    "Variables\n",
    "    x(i,j)\n",
    "    z       \"total transportation costs\";\n",
    "\n",
    "Positive Variable x ;\n",
    "\n",
    "#equation declaration\n",
    "Equations\n",
    "    cost        define objective function\n",
    "    supply(i)   observe supply limit at plant i\n",
    "    demand(j)   satisfy demand at city j ;\n",
    "\n",
    "#equation definition\n",
    "cost ..   z  =e=  sum((i,j), c(i,j)*x(i,j)) +sum(j, penalty(j)*(d(j)-sum(i,x(i,j))));\n",
    "\n",
    "supply(i) ..   sum(j, x(i,j))  =l=  s(i) ;\n",
    "\n",
    "demand(j) ..   sum(i, x(i,j))  =l=  d(j) ;\n",
    "\n",
    "# model and solve\n",
    "Model transport /all/ ;\n",
    "#Wrong: Model transport /cost, supply/ ;\n",
    "  \n",
    "#GAMS option limrow specifies the number of equations to include in GAMS listing file\n",
    "option limrow = 3;\n",
    "\n",
    "#GAMS option solprint on/off: whether to not to include the solution report part in the listing file\n",
    "option solprint = on;\n",
    "\n",
    "Solve transport using lp minimizing z ;"
   ]
  },
  {
   "cell_type": "code",
   "execution_count": 22,
   "metadata": {},
   "outputs": [
    {
     "name": "stdout",
     "output_type": "stream",
     "text": [
      "E x e c u t i o n\n",
      "\n",
      "\n",
      "----    142 VARIABLE x.L  \n",
      "\n",
      "            c1          c2          c3          c4\n",
      "\n",
      "p1      10.000                  20.000\n",
      "p2      30.000\n",
      "p3                  30.000                  30.000\n",
      "\n",
      "\n",
      "----    142 VARIABLE z.L                   =     4950.000  total transportation costs\n",
      "\n",
      "\n"
     ]
    }
   ],
   "source": [
    "%gams display x.l, z.l;\n",
    "%gams_lst -e"
   ]
  },
  {
   "cell_type": "code",
   "execution_count": null,
   "metadata": {},
   "outputs": [],
   "source": []
  }
 ],
 "metadata": {
  "kernelspec": {
   "display_name": "Python 3",
   "language": "python",
   "name": "python3"
  },
  "language_info": {
   "codemirror_mode": {
    "name": "ipython",
    "version": 3
   },
   "file_extension": ".py",
   "mimetype": "text/x-python",
   "name": "python",
   "nbconvert_exporter": "python",
   "pygments_lexer": "ipython3",
   "version": "3.6.9"
  }
 },
 "nbformat": 4,
 "nbformat_minor": 2
}
