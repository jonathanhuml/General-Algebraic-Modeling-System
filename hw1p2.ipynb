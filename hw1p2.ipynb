{
 "cells": [
  {
   "cell_type": "code",
   "execution_count": 5,
   "metadata": {},
   "outputs": [],
   "source": [
    "%load_ext gams_magic"
   ]
  },
  {
   "cell_type": "code",
   "execution_count": 49,
   "metadata": {},
   "outputs": [
    {
     "data": {
      "text/html": [
       "<div>\n",
       "<style scoped>\n",
       "    .dataframe tbody tr th:only-of-type {\n",
       "        vertical-align: middle;\n",
       "    }\n",
       "\n",
       "    .dataframe tbody tr th {\n",
       "        vertical-align: top;\n",
       "    }\n",
       "\n",
       "    .dataframe thead th {\n",
       "        text-align: right;\n",
       "    }\n",
       "</style>\n",
       "<table border=\"1\" class=\"dataframe\">\n",
       "  <thead>\n",
       "    <tr style=\"text-align: right;\">\n",
       "      <th></th>\n",
       "      <th>Solver Status</th>\n",
       "      <th>Model Status</th>\n",
       "      <th>Objective</th>\n",
       "      <th>#equ</th>\n",
       "      <th>#var</th>\n",
       "      <th>Model Type</th>\n",
       "      <th>Solver</th>\n",
       "      <th>Solver Time</th>\n",
       "    </tr>\n",
       "  </thead>\n",
       "  <tbody>\n",
       "    <tr>\n",
       "      <th>0</th>\n",
       "      <td>Normal (1)</td>\n",
       "      <td>Optimal Global (1)</td>\n",
       "      <td>4902.5</td>\n",
       "      <td>10</td>\n",
       "      <td>7</td>\n",
       "      <td>LP</td>\n",
       "      <td>OSICPLEX</td>\n",
       "      <td>0</td>\n",
       "    </tr>\n",
       "  </tbody>\n",
       "</table>\n",
       "</div>"
      ],
      "text/plain": [
       "  Solver Status        Model Status  Objective #equ #var Model Type    Solver  \\\n",
       "0    Normal (1)  Optimal Global (1)     4902.5   10    7         LP  OSICPLEX   \n",
       "\n",
       "  Solver Time  \n",
       "0           0  "
      ]
     },
     "execution_count": 49,
     "metadata": {},
     "output_type": "execute_result"
    }
   ],
   "source": [
    "%%gams\n",
    "\n",
    "set I /Columbian, Brazilian, Sumatran/, J /Robust, Light/; \n",
    "variable profit;\n",
    "positive variables x(I,J);\n",
    "\n",
    "Equation obj, SMT, BRZ, CLB, RJS60, RJS75, RJC10, LJB50, LJB60,LJS20; \n",
    "obj.. profit =e= 4.25*sum(I,x(I,\"Robust\")) + 3.95*sum(I,x(I, \"Light\")) - sum(J, x(\"Columbian\",J)) - 0.85* sum(J, x(\"Brazilian\",J))- 1.55* sum(J, x(\"Sumatran\",J));\n",
    "\n",
    "\n",
    "SMT..x(\"Sumatran\", \"Light\") + x(\"Sumatran\", \"Robust\") =l= 650;\n",
    "BRZ..x(\"Brazilian\", \"Light\") + x(\"Brazilian\", \"Robust\") =l= 450;\n",
    "CLB..x(\"Columbian\", \"Light\") + x(\"Columbian\", \"Robust\") =l= 550;\n",
    "\n",
    "RJS60..x(\"Sumatran\", \"Robust\") =g= 0.6*sum(I, x(I,\"Robust\"));\n",
    "RJS75..x(\"Sumatran\", \"Robust\") =l= 0.75*sum(I, x(I,\"Robust\"));\n",
    "\n",
    "RJC10..x(\"Columbian\", \"Robust\") =g= 0.1*sum(I, x(I,\"Robust\"));\n",
    "\n",
    "LJB50..x(\"Brazilian\", \"Light\") =g= 0.5*sum(I, x(I,\"Light\"));\n",
    "LJB60..x(\"Brazilian\", \"Light\") =l= 0.6*sum(I, x(I,\"Light\"));\n",
    "\n",
    "LJS20..x(\"Sumatran\", \"Light\") =l= 0.20*sum(I, x(I,\"Light\"));\n",
    "\n",
    "\n",
    "\n",
    "model coffee /obj, RJS60, RJS75,RJC10,LJB50,LJB60,LJS20,SMT,BRZ,CLB/;\n",
    "solve coffee using lp maximizing profit;"
   ]
  },
  {
   "cell_type": "code",
   "execution_count": 37,
   "metadata": {},
   "outputs": [
    {
     "name": "stdout",
     "output_type": "stream",
     "text": [
      "\f",
      "GAMS 28.2.0  r750fa45 Released Aug 19, 2019 LEX-LEG x86 64bit/Linux                                                                                                                                                                   04/11/20 20:02:37 Page 27\n",
      "G e n e r a l   A l g e b r a i c   M o d e l i n g   S y s t e m\n",
      "C o m p i l a t i o n\n",
      "\n",
      "\n",
      " 146   \n",
      " 147  set I /Columbian, Brazilian, Sumatran/, J /Robust, Light/;\n",
      " 148  variable profit;\n",
      " 149  positive variables x(I,J);\n",
      " 150   \n",
      " 151  Equation obj, RJS60, RJS75, RJC10, LJB50, LJB60,LJS20, SMT, BRZ, CLB;\n",
      " 152   \n",
      " 153  obj.. profit =e= 4.25*sum(I,x(I,\"Robust\")) + 3.95*sum(I,x(I, \"Light\")) +sum(x(\"Columbian\",J),J);\n",
      "****                                                                              $121              $148,133,654\n",
      "**** LINE     10 INPUT       /home/user037/gamsJupyter29.gms\n",
      " 154   \n",
      " 155  RJS60..x(\"Sumatran\", \"Robust\") =g= 0.6*sum(I, x(I,\"Robust\"));\n",
      " 156  RJS75..x(\"Sumatran\", \"Robust\") =l= 0.75*sum(I, x(I,\"Robust\"));\n",
      " 157   \n",
      " 158  RJC10..x(\"Columbian\", \"Robust\") =g= 0.1*sum(I, x(I,\"Robust\"));\n",
      " 159   \n",
      "\f",
      "GAMS 28.2.0  r750fa45 Released Aug 19, 2019 LEX-LEG x86 64bit/Linux                                                                                                                                                                   04/11/20 20:02:37 Page 28\n",
      "G e n e r a l   A l g e b r a i c   M o d e l i n g   S y s t e m\n",
      "Error Messages\n",
      "\n",
      "\n",
      "121  Set expected\n",
      "133  Incompatible operands for addition\n",
      "148  Dimension different - The symbol is referenced with more/less\n",
      "        indices as declared\n",
      "654  The right side of an equation cannot be a set expression\n",
      "\n",
      "**** 4 ERROR(S)   0 WARNING(S)\n",
      "\n",
      "\n",
      "COMPILATION TIME     =        0.000 SECONDS      3 MB  28.2.0 r750fa45 LEX-LEG\n",
      "\n",
      "\n",
      "USER: Course License University of North Carolina    G200106/0001AO-GEN\n",
      "      Statistics and Operations Research                 DC7042-C000002\n",
      "      License for teaching and research at degree granting institutions\n",
      "\n",
      "\n",
      "**** FILE SUMMARY\n",
      "\n",
      "Restart    /home/user037/_gams_py_gcp0.g00\n",
      "Input      /home/user037/gamsJupyter29.gms\n",
      "Output     /home/user037/gamsJupyter29.lst\n",
      "Save       /home/user037/_gams_py_gcp28.g0?\n",
      "\n",
      "**** USER ERROR(S) ENCOUNTERED\n",
      "\n"
     ]
    }
   ],
   "source": [
    "%gams_lst "
   ]
  },
  {
   "cell_type": "code",
   "execution_count": null,
   "metadata": {},
   "outputs": [],
   "source": []
  }
 ],
 "metadata": {
  "kernelspec": {
   "display_name": "Python 3",
   "language": "python",
   "name": "python3"
  },
  "language_info": {
   "codemirror_mode": {
    "name": "ipython",
    "version": 3
   },
   "file_extension": ".py",
   "mimetype": "text/x-python",
   "name": "python",
   "nbconvert_exporter": "python",
   "pygments_lexer": "ipython3",
   "version": "3.6.9"
  }
 },
 "nbformat": 4,
 "nbformat_minor": 2
}
